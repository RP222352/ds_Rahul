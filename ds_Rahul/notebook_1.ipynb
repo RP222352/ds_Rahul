{
  "nbformat": 4,
  "nbformat_minor": 0,
  "metadata": {
    "colab": {
      "provenance": []
    },
    "kernelspec": {
      "name": "python3",
      "display_name": "Python 3"
    },
    "language_info": {
      "name": "python"
    }
  },
  "cells": [
    {
      "cell_type": "code",
      "execution_count": null,
      "metadata": {
        "id": "SsCt2r3olwo_"
      },
      "outputs": [],
      "source": [
        "import pandas as pd\n",
        "import numpy as np\n",
        "import matplotlib.pyplot as plt\n",
        "import seaborn as sns\n",
        "\n",
        "# Configure display settings\n",
        "pd.set_option('display.max_columns', None)\n",
        "plt.style.use('ggplot')"
      ]
    },
    {
      "cell_type": "code",
      "source": [
        "# Load historical trader data\n",
        "historical_df = pd.read_csv(\"/content/drive/MyDrive/ds_Rahul/csv_files/historical_data.csv\")\n",
        "\n",
        "# Load Fear & Greed index data\n",
        "fear_greed_df = pd.read_csv(\"/content/drive/MyDrive/ds_Rahul/csv_files/fear_greed_index.csv\")\n",
        "\n",
        "# Check basic info\n",
        "print(\"Historical Data Shape:\", historical_df.shape)\n",
        "print(\"Fear & Greed Data Shape:\", fear_greed_df.shape)"
      ],
      "metadata": {
        "id": "yUM2rIdXl7-C"
      },
      "execution_count": null,
      "outputs": []
    },
    {
      "cell_type": "code",
      "source": [
        "# View first few rows\n",
        "display(historical_df.head())"
      ],
      "metadata": {
        "id": "2w7fr_iSl779"
      },
      "execution_count": null,
      "outputs": []
    },
    {
      "cell_type": "code",
      "source": [
        "# Summary statistics\n",
        "display(historical_df.describe())"
      ],
      "metadata": {
        "id": "_rQaRbVBl75m"
      },
      "execution_count": null,
      "outputs": []
    },
    {
      "cell_type": "code",
      "source": [
        "# View first few rows\n",
        "display(fear_greed_df.head())"
      ],
      "metadata": {
        "id": "cVR6IEQSl73h"
      },
      "execution_count": null,
      "outputs": []
    },
    {
      "cell_type": "code",
      "source": [
        "# Summary statistics\n",
        "display(fear_greed_df.describe())"
      ],
      "metadata": {
        "id": "98CUfRUsl71b"
      },
      "execution_count": null,
      "outputs": []
    },
    {
      "cell_type": "code",
      "source": [
        "#Data Cleaning\n",
        "# --- Historical Trader Data ---\n",
        "# Convert timestamp to datetime\n",
        "historical_df['Timestamp IST'] = pd.to_datetime(historical_df['Timestamp IST'], format='%d-%m-%Y %H:%M', errors='coerce')\n",
        "\n",
        "# Convert Unix timestamp to datetime (if present)\n",
        "if historical_df['Timestamp'].notnull().sum() > 0:\n",
        "    historical_df['Timestamp'] = pd.to_datetime(historical_df['Timestamp'], unit='s', errors='coerce')\n",
        "\n",
        "# Clean categorical fields\n",
        "historical_df['Side'] = historical_df['Side'].str.upper()\n",
        "\n",
        "# Fill missing numeric values\n",
        "historical_df.fillna({\n",
        "    'Closed PnL': 0.0,\n",
        "    'Fee': 0.0,\n",
        "    'Size Tokens': 0.0,\n",
        "    'Size USD': 0.0\n",
        "}, inplace=True)\n",
        "\n",
        "# Create a 'date' column for merging\n",
        "historical_df['date'] = historical_df['Timestamp IST'].dt.date\n",
        "historical_df['date'] = pd.to_datetime(historical_df['date'])"
      ],
      "metadata": {
        "id": "JL7PRoYjl7zW"
      },
      "execution_count": null,
      "outputs": []
    },
    {
      "cell_type": "code",
      "source": [
        "#Data Cleaning\n",
        "# --- Fear & Greed Data ---\n",
        "fear_greed_df['date'] = pd.to_datetime(fear_greed_df['date'], format='%Y-%m-%d', errors='coerce')\n",
        "fear_greed_df['classification'] = fear_greed_df['classification'].str.title()"
      ],
      "metadata": {
        "id": "A6FHNIODl7xU"
      },
      "execution_count": null,
      "outputs": []
    },
    {
      "cell_type": "code",
      "source": [
        "#Merge the Datasets\n",
        "merged_df = pd.merge(\n",
        "    historical_df,\n",
        "    fear_greed_df[['date', 'value', 'classification']],\n",
        "    on='date',\n",
        "    how='left'\n",
        ")\n",
        "\n",
        "print(\"Merged Data Shape:\", merged_df.shape)\n",
        "display(merged_df.head())"
      ],
      "metadata": {
        "id": "5Ck73Sa5mFqV"
      },
      "execution_count": null,
      "outputs": []
    },
    {
      "cell_type": "code",
      "source": [
        "#Save the Cleaned Dataset\n",
        "merged_df.to_csv(f\"/content/drive/MyDrive/ds_Rahul/csv_files/cleaned_merged_data.csv\", index=False)\n",
        "print(\"Cleaned merged data saved in csv_files folder.\")"
      ],
      "metadata": {
        "id": "FeDz6KExmFoh"
      },
      "execution_count": null,
      "outputs": []
    },
    {
      "cell_type": "code",
      "source": [
        "#Basic EDA\n",
        "# A. Buy vs Sell Count\n",
        "\n",
        "buy_sell_counts = merged_df['Side'].value_counts()\n",
        "\n",
        "plt.figure(figsize=(6,4))\n",
        "sns.barplot(x=buy_sell_counts.index, y=buy_sell_counts.values)\n",
        "plt.title(\"Buy vs Sell Trade Count\")\n",
        "plt.xlabel(\"Trade Side\")\n",
        "plt.ylabel(\"Count\")\n",
        "plt.savefig(f\"/content/drive/MyDrive/ds_Rahul/outputs/buy_vs_sell.png\")\n",
        "plt.show()"
      ],
      "metadata": {
        "id": "bwCVVwOFmFmd"
      },
      "execution_count": null,
      "outputs": []
    },
    {
      "cell_type": "code",
      "source": [
        "# B. Daily Trading Volume\n",
        "\n",
        "daily_volume = merged_df.groupby('date')['Size USD'].sum()\n",
        "\n",
        "plt.figure(figsize=(10,5))\n",
        "daily_volume.plot()\n",
        "plt.title(\"Daily Total Trading Volume (USD)\")\n",
        "plt.xlabel(\"Date\")\n",
        "plt.ylabel(\"Total Volume (USD)\")\n",
        "plt.savefig(f\"/content/drive/MyDrive/ds_Rahul/outputs/daily_volume.png\")\n",
        "plt.show()"
      ],
      "metadata": {
        "id": "DqIIFBr_mFkX"
      },
      "execution_count": null,
      "outputs": []
    },
    {
      "cell_type": "code",
      "source": [
        "#Profitability vs Sentiment Analysis\n",
        "\n",
        "#Analyze profitability by sentiment type (Fear, Greed, etc.).\n",
        "\n",
        "# Group by sentiment classification\n",
        "profitability_stats = merged_df.groupby('classification').agg(\n",
        "    total_trades=('Account', 'count'),\n",
        "    total_pnl=('Closed PnL', 'sum'),\n",
        "    avg_pnl=('Closed PnL', 'mean'),\n",
        "    total_volume_usd=('Size USD', 'sum'),\n",
        "    avg_trade_volume_usd=('Size USD', 'mean')\n",
        ").reset_index()\n",
        "\n",
        "display(profitability_stats)"
      ],
      "metadata": {
        "id": "E-5MiW8YmFiS"
      },
      "execution_count": null,
      "outputs": []
    },
    {
      "cell_type": "code",
      "source": [
        "# A. Total PnL by sentiment\n",
        "pnl_by_sentiment = merged_df.groupby('classification')['Closed PnL'].sum().reset_index()\n",
        "\n",
        "# Sort for better visualization (highest to lowest total PnL)\n",
        "pnl_by_sentiment = pnl_by_sentiment.sort_values(by='Closed PnL', ascending=False)\n",
        "\n",
        "# Plot\n",
        "plt.figure(figsize=(7,4))\n",
        "sns.barplot(x='classification', y='Closed PnL', data=pnl_by_sentiment, palette='viridis')\n",
        "\n",
        "plt.title(\"Total Closed PnL by Market Sentiment\")\n",
        "plt.xlabel(\"Market Sentiment\")\n",
        "plt.ylabel(\"Total Closed PnL (USD)\")\n",
        "plt.xticks(rotation=15)\n",
        "plt.tight_layout()\n",
        "\n",
        "# Save to outputs folder\n",
        "plt.savefig(\"/content/drive/MyDrive/ds_Rahul/outputs/pnl_by_sentiment.png\")\n",
        "plt.show()\n",
        "\n",
        "print(\"pnl_by_sentiment.png saved in outputs folder.\")"
      ],
      "metadata": {
        "id": "OZc3v6RCmTRD"
      },
      "execution_count": null,
      "outputs": []
    },
    {
      "cell_type": "code",
      "source": [
        "# B. Average PnL by Sentiment\n",
        "\n",
        "plt.figure(figsize=(7,4))\n",
        "sns.barplot(x='classification', y='avg_pnl', data=profitability_stats, palette='coolwarm')\n",
        "plt.title(\"Average Closed PnL per Trade by Market Sentiment\")\n",
        "plt.xlabel(\"Market Sentiment\")\n",
        "plt.ylabel(\"Average Closed PnL\")\n",
        "plt.savefig(f\"/content/drive/MyDrive/ds_Rahul/outputs/avg_pnl_by_sentiment.png\")\n",
        "plt.show()"
      ],
      "metadata": {
        "id": "vmQz6MdBmVvo"
      },
      "execution_count": null,
      "outputs": []
    },
    {
      "cell_type": "code",
      "source": [
        "# C. Total Trade Volume by Sentiment\n",
        "\n",
        "plt.figure(figsize=(7,4))\n",
        "sns.barplot(x='classification', y='total_volume_usd', data=profitability_stats, palette='muted')\n",
        "plt.title(\"Total Trade Volume by Market Sentiment (USD)\")\n",
        "plt.xlabel(\"Market Sentiment\")\n",
        "plt.ylabel(\"Total Volume (USD)\")\n",
        "plt.savefig(f\"/content/drive/MyDrive/ds_Rahul/outputs/volume_by_sentiment.png\")\n",
        "plt.show()"
      ],
      "metadata": {
        "id": "9ifM6R7smVti"
      },
      "execution_count": null,
      "outputs": []
    },
    {
      "cell_type": "code",
      "source": [
        "# Export Final Report Data\n",
        "\n",
        "summary = {\n",
        "    \"total_trades\": int(merged_df.shape[0]),\n",
        "    \"total_volume_usd\": float(merged_df['Size USD'].sum()),\n",
        "    \"total_closed_pnl\": float(merged_df['Closed PnL'].sum()),\n",
        "    \"buy_vs_sell\": buy_sell_counts.to_dict(),\n",
        "    \"profitability_by_sentiment\": profitability_stats.to_dict(orient='records')\n",
        "}\n",
        "\n",
        "# Save summary as CSV for reporting\n",
        "pd.DataFrame.from_dict(summary['profitability_by_sentiment']).to_csv(\n",
        "    f\"/content/drive/MyDrive/ds_Rahul/csv_files/profitability_summary.csv\", index=False\n",
        ")\n",
        "\n",
        "print(\"Summary data exported successfully!\")"
      ],
      "metadata": {
        "id": "dF_QIppLmVrv"
      },
      "execution_count": null,
      "outputs": []
    }
  ]
}